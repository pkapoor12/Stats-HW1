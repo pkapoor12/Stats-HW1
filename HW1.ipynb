{
 "cells": [
  {
   "cell_type": "markdown",
   "id": "04d7f5db",
   "metadata": {},
   "source": [
    "# HW1"
   ]
  },
  {
   "cell_type": "code",
   "execution_count": 7,
   "id": "dc5ea80e",
   "metadata": {},
   "outputs": [],
   "source": [
    "import pandas as pd\n",
    "from scipy.stats import ttest_ind, ttest_rel, t, sem\n",
    "import numpy as np\n",
    "from math import sqrt"
   ]
  },
  {
   "cell_type": "markdown",
   "id": "efd49ead",
   "metadata": {},
   "source": [
    "## PROBLEMS 5+6"
   ]
  },
  {
   "cell_type": "code",
   "execution_count": 8,
   "id": "166412ff",
   "metadata": {},
   "outputs": [
    {
     "data": {
      "text/html": [
       "<div>\n",
       "<style scoped>\n",
       "    .dataframe tbody tr th:only-of-type {\n",
       "        vertical-align: middle;\n",
       "    }\n",
       "\n",
       "    .dataframe tbody tr th {\n",
       "        vertical-align: top;\n",
       "    }\n",
       "\n",
       "    .dataframe thead th {\n",
       "        text-align: right;\n",
       "    }\n",
       "</style>\n",
       "<table border=\"1\" class=\"dataframe\">\n",
       "  <thead>\n",
       "    <tr style=\"text-align: right;\">\n",
       "      <th></th>\n",
       "      <th>Before</th>\n",
       "      <th>After</th>\n",
       "    </tr>\n",
       "  </thead>\n",
       "  <tbody>\n",
       "    <tr>\n",
       "      <th>0</th>\n",
       "      <td>31.0</td>\n",
       "      <td>27.0</td>\n",
       "    </tr>\n",
       "    <tr>\n",
       "      <th>1</th>\n",
       "      <td>34.1</td>\n",
       "      <td>27.3</td>\n",
       "    </tr>\n",
       "    <tr>\n",
       "      <th>2</th>\n",
       "      <td>38.8</td>\n",
       "      <td>31.5</td>\n",
       "    </tr>\n",
       "    <tr>\n",
       "      <th>3</th>\n",
       "      <td>33.5</td>\n",
       "      <td>26.7</td>\n",
       "    </tr>\n",
       "    <tr>\n",
       "      <th>4</th>\n",
       "      <td>31.3</td>\n",
       "      <td>36.3</td>\n",
       "    </tr>\n",
       "    <tr>\n",
       "      <th>5</th>\n",
       "      <td>31.0</td>\n",
       "      <td>34.8</td>\n",
       "    </tr>\n",
       "    <tr>\n",
       "      <th>6</th>\n",
       "      <td>32.8</td>\n",
       "      <td>32.2</td>\n",
       "    </tr>\n",
       "    <tr>\n",
       "      <th>7</th>\n",
       "      <td>32.5</td>\n",
       "      <td>29.4</td>\n",
       "    </tr>\n",
       "    <tr>\n",
       "      <th>8</th>\n",
       "      <td>26.8</td>\n",
       "      <td>30.2</td>\n",
       "    </tr>\n",
       "    <tr>\n",
       "      <th>9</th>\n",
       "      <td>30.9</td>\n",
       "      <td>29.3</td>\n",
       "    </tr>\n",
       "    <tr>\n",
       "      <th>10</th>\n",
       "      <td>33.2</td>\n",
       "      <td>32.4</td>\n",
       "    </tr>\n",
       "    <tr>\n",
       "      <th>11</th>\n",
       "      <td>32.3</td>\n",
       "      <td>31.9</td>\n",
       "    </tr>\n",
       "    <tr>\n",
       "      <th>12</th>\n",
       "      <td>30.9</td>\n",
       "      <td>31.9</td>\n",
       "    </tr>\n",
       "    <tr>\n",
       "      <th>13</th>\n",
       "      <td>36.1</td>\n",
       "      <td>30.4</td>\n",
       "    </tr>\n",
       "    <tr>\n",
       "      <th>14</th>\n",
       "      <td>27.3</td>\n",
       "      <td>32.1</td>\n",
       "    </tr>\n",
       "    <tr>\n",
       "      <th>15</th>\n",
       "      <td>32.0</td>\n",
       "      <td>29.9</td>\n",
       "    </tr>\n",
       "    <tr>\n",
       "      <th>16</th>\n",
       "      <td>30.7</td>\n",
       "      <td>31.5</td>\n",
       "    </tr>\n",
       "    <tr>\n",
       "      <th>17</th>\n",
       "      <td>26.5</td>\n",
       "      <td>27.8</td>\n",
       "    </tr>\n",
       "  </tbody>\n",
       "</table>\n",
       "</div>"
      ],
      "text/plain": [
       "    Before  After\n",
       "0     31.0   27.0\n",
       "1     34.1   27.3\n",
       "2     38.8   31.5\n",
       "3     33.5   26.7\n",
       "4     31.3   36.3\n",
       "5     31.0   34.8\n",
       "6     32.8   32.2\n",
       "7     32.5   29.4\n",
       "8     26.8   30.2\n",
       "9     30.9   29.3\n",
       "10    33.2   32.4\n",
       "11    32.3   31.9\n",
       "12    30.9   31.9\n",
       "13    36.1   30.4\n",
       "14    27.3   32.1\n",
       "15    32.0   29.9\n",
       "16    30.7   31.5\n",
       "17    26.5   27.8"
      ]
     },
     "execution_count": 8,
     "metadata": {},
     "output_type": "execute_result"
    }
   ],
   "source": [
    "df = pd.DataFrame({'Before': [31, 34.1, 38.8, 33.5, 31.3, 31, 32.8, 32.5, 26.8, 30.9, 33.2, 32.3, 30.9, 36.1, 27.3, 32, 30.7, 26.5],\n",
    "                  'After': [27, 27.3, 31.5, 26.7, 36.3, 34.8, 32.2, 29.4, 30.2, 29.3, 32.4, 31.9, 31.9, 30.4, 32.1, 29.9, 31.5, 27.8]})\n",
    "df"
   ]
  },
  {
   "cell_type": "code",
   "execution_count": 9,
   "id": "8c376474",
   "metadata": {},
   "outputs": [
    {
     "data": {
      "text/html": [
       "<div>\n",
       "<style scoped>\n",
       "    .dataframe tbody tr th:only-of-type {\n",
       "        vertical-align: middle;\n",
       "    }\n",
       "\n",
       "    .dataframe tbody tr th {\n",
       "        vertical-align: top;\n",
       "    }\n",
       "\n",
       "    .dataframe thead th {\n",
       "        text-align: right;\n",
       "    }\n",
       "</style>\n",
       "<table border=\"1\" class=\"dataframe\">\n",
       "  <thead>\n",
       "    <tr style=\"text-align: right;\">\n",
       "      <th></th>\n",
       "      <th>Before</th>\n",
       "      <th>After</th>\n",
       "      <th>Difference</th>\n",
       "    </tr>\n",
       "  </thead>\n",
       "  <tbody>\n",
       "    <tr>\n",
       "      <th>0</th>\n",
       "      <td>31.0</td>\n",
       "      <td>27.0</td>\n",
       "      <td>4.0</td>\n",
       "    </tr>\n",
       "    <tr>\n",
       "      <th>1</th>\n",
       "      <td>34.1</td>\n",
       "      <td>27.3</td>\n",
       "      <td>6.8</td>\n",
       "    </tr>\n",
       "    <tr>\n",
       "      <th>2</th>\n",
       "      <td>38.8</td>\n",
       "      <td>31.5</td>\n",
       "      <td>7.3</td>\n",
       "    </tr>\n",
       "    <tr>\n",
       "      <th>3</th>\n",
       "      <td>33.5</td>\n",
       "      <td>26.7</td>\n",
       "      <td>6.8</td>\n",
       "    </tr>\n",
       "    <tr>\n",
       "      <th>4</th>\n",
       "      <td>31.3</td>\n",
       "      <td>36.3</td>\n",
       "      <td>-5.0</td>\n",
       "    </tr>\n",
       "    <tr>\n",
       "      <th>5</th>\n",
       "      <td>31.0</td>\n",
       "      <td>34.8</td>\n",
       "      <td>-3.8</td>\n",
       "    </tr>\n",
       "    <tr>\n",
       "      <th>6</th>\n",
       "      <td>32.8</td>\n",
       "      <td>32.2</td>\n",
       "      <td>0.6</td>\n",
       "    </tr>\n",
       "    <tr>\n",
       "      <th>7</th>\n",
       "      <td>32.5</td>\n",
       "      <td>29.4</td>\n",
       "      <td>3.1</td>\n",
       "    </tr>\n",
       "    <tr>\n",
       "      <th>8</th>\n",
       "      <td>26.8</td>\n",
       "      <td>30.2</td>\n",
       "      <td>-3.4</td>\n",
       "    </tr>\n",
       "    <tr>\n",
       "      <th>9</th>\n",
       "      <td>30.9</td>\n",
       "      <td>29.3</td>\n",
       "      <td>1.6</td>\n",
       "    </tr>\n",
       "    <tr>\n",
       "      <th>10</th>\n",
       "      <td>33.2</td>\n",
       "      <td>32.4</td>\n",
       "      <td>0.8</td>\n",
       "    </tr>\n",
       "    <tr>\n",
       "      <th>11</th>\n",
       "      <td>32.3</td>\n",
       "      <td>31.9</td>\n",
       "      <td>0.4</td>\n",
       "    </tr>\n",
       "    <tr>\n",
       "      <th>12</th>\n",
       "      <td>30.9</td>\n",
       "      <td>31.9</td>\n",
       "      <td>-1.0</td>\n",
       "    </tr>\n",
       "    <tr>\n",
       "      <th>13</th>\n",
       "      <td>36.1</td>\n",
       "      <td>30.4</td>\n",
       "      <td>5.7</td>\n",
       "    </tr>\n",
       "    <tr>\n",
       "      <th>14</th>\n",
       "      <td>27.3</td>\n",
       "      <td>32.1</td>\n",
       "      <td>-4.8</td>\n",
       "    </tr>\n",
       "    <tr>\n",
       "      <th>15</th>\n",
       "      <td>32.0</td>\n",
       "      <td>29.9</td>\n",
       "      <td>2.1</td>\n",
       "    </tr>\n",
       "    <tr>\n",
       "      <th>16</th>\n",
       "      <td>30.7</td>\n",
       "      <td>31.5</td>\n",
       "      <td>-0.8</td>\n",
       "    </tr>\n",
       "    <tr>\n",
       "      <th>17</th>\n",
       "      <td>26.5</td>\n",
       "      <td>27.8</td>\n",
       "      <td>-1.3</td>\n",
       "    </tr>\n",
       "  </tbody>\n",
       "</table>\n",
       "</div>"
      ],
      "text/plain": [
       "    Before  After  Difference\n",
       "0     31.0   27.0         4.0\n",
       "1     34.1   27.3         6.8\n",
       "2     38.8   31.5         7.3\n",
       "3     33.5   26.7         6.8\n",
       "4     31.3   36.3        -5.0\n",
       "5     31.0   34.8        -3.8\n",
       "6     32.8   32.2         0.6\n",
       "7     32.5   29.4         3.1\n",
       "8     26.8   30.2        -3.4\n",
       "9     30.9   29.3         1.6\n",
       "10    33.2   32.4         0.8\n",
       "11    32.3   31.9         0.4\n",
       "12    30.9   31.9        -1.0\n",
       "13    36.1   30.4         5.7\n",
       "14    27.3   32.1        -4.8\n",
       "15    32.0   29.9         2.1\n",
       "16    30.7   31.5        -0.8\n",
       "17    26.5   27.8        -1.3"
      ]
     },
     "execution_count": 9,
     "metadata": {},
     "output_type": "execute_result"
    }
   ],
   "source": [
    "df['Difference'] = df['Before'] - df['After']\n",
    "df"
   ]
  },
  {
   "cell_type": "code",
   "execution_count": 10,
   "id": "220680a2",
   "metadata": {},
   "outputs": [
    {
     "name": "stdout",
     "output_type": "stream",
     "text": [
      "Average: 1.0611111111111113\n",
      "Variance: 15.829575163398689\n",
      "Standard Deviation: 3.9786398634959017\n"
     ]
    }
   ],
   "source": [
    "diff_avg = df['Difference'].mean()\n",
    "diff_var = df['Difference'].var()\n",
    "diff_std = df['Difference'].std()\n",
    "print(\"Average:\", diff_avg)\n",
    "print(\"Variance:\", diff_var)\n",
    "print(\"Standard Deviation:\", diff_std)"
   ]
  },
  {
   "cell_type": "code",
   "execution_count": 19,
   "id": "939bb3ba",
   "metadata": {},
   "outputs": [
    {
     "data": {
      "text/plain": [
       "TtestResult(statistic=1.1315206522860977, pvalue=0.2735458685436248, df=17)"
      ]
     },
     "execution_count": 19,
     "metadata": {},
     "output_type": "execute_result"
    }
   ],
   "source": [
    "group1 = df['Before']\n",
    "group2 = df['After']\n",
    "ttest_rel(group1, group2, alternative='two-sided')"
   ]
  },
  {
   "cell_type": "code",
   "execution_count": 12,
   "id": "ccb15a2c",
   "metadata": {},
   "outputs": [
    {
     "data": {
      "text/plain": [
       "(-1.656775301949379, 3.7789975241716016)"
      ]
     },
     "execution_count": 12,
     "metadata": {},
     "output_type": "execute_result"
    }
   ],
   "source": [
    "t.interval(confidence=0.99, df=df['Difference'].count()-1, loc=diff_avg, scale=diff_std/sqrt(df['Difference'].count()))"
   ]
  },
  {
   "cell_type": "markdown",
   "id": "261e3685",
   "metadata": {},
   "source": [
    "## PROBLEMS 2+3"
   ]
  },
  {
   "cell_type": "code",
   "execution_count": 13,
   "id": "53f5d67b",
   "metadata": {},
   "outputs": [
    {
     "data": {
      "text/html": [
       "<div>\n",
       "<style scoped>\n",
       "    .dataframe tbody tr th:only-of-type {\n",
       "        vertical-align: middle;\n",
       "    }\n",
       "\n",
       "    .dataframe tbody tr th {\n",
       "        vertical-align: top;\n",
       "    }\n",
       "\n",
       "    .dataframe thead th {\n",
       "        text-align: right;\n",
       "    }\n",
       "</style>\n",
       "<table border=\"1\" class=\"dataframe\">\n",
       "  <thead>\n",
       "    <tr style=\"text-align: right;\">\n",
       "      <th></th>\n",
       "      <th>SunGrow</th>\n",
       "      <th>Control</th>\n",
       "    </tr>\n",
       "  </thead>\n",
       "  <tbody>\n",
       "    <tr>\n",
       "      <th>0</th>\n",
       "      <td>42.2</td>\n",
       "      <td>39.5</td>\n",
       "    </tr>\n",
       "    <tr>\n",
       "      <th>1</th>\n",
       "      <td>43.6</td>\n",
       "      <td>38.2</td>\n",
       "    </tr>\n",
       "    <tr>\n",
       "      <th>2</th>\n",
       "      <td>41.1</td>\n",
       "      <td>39.6</td>\n",
       "    </tr>\n",
       "    <tr>\n",
       "      <th>3</th>\n",
       "      <td>41.5</td>\n",
       "      <td>40.1</td>\n",
       "    </tr>\n",
       "    <tr>\n",
       "      <th>4</th>\n",
       "      <td>43.9</td>\n",
       "      <td>38.9</td>\n",
       "    </tr>\n",
       "    <tr>\n",
       "      <th>5</th>\n",
       "      <td>40.4</td>\n",
       "      <td>39.1</td>\n",
       "    </tr>\n",
       "    <tr>\n",
       "      <th>6</th>\n",
       "      <td>41.3</td>\n",
       "      <td>38.0</td>\n",
       "    </tr>\n",
       "    <tr>\n",
       "      <th>7</th>\n",
       "      <td>43.6</td>\n",
       "      <td>33.8</td>\n",
       "    </tr>\n",
       "    <tr>\n",
       "      <th>8</th>\n",
       "      <td>42.9</td>\n",
       "      <td>39.8</td>\n",
       "    </tr>\n",
       "    <tr>\n",
       "      <th>9</th>\n",
       "      <td>42.3</td>\n",
       "      <td>36.7</td>\n",
       "    </tr>\n",
       "  </tbody>\n",
       "</table>\n",
       "</div>"
      ],
      "text/plain": [
       "   SunGrow  Control\n",
       "0     42.2     39.5\n",
       "1     43.6     38.2\n",
       "2     41.1     39.6\n",
       "3     41.5     40.1\n",
       "4     43.9     38.9\n",
       "5     40.4     39.1\n",
       "6     41.3     38.0\n",
       "7     43.6     33.8\n",
       "8     42.9     39.8\n",
       "9     42.3     36.7"
      ]
     },
     "execution_count": 13,
     "metadata": {},
     "output_type": "execute_result"
    }
   ],
   "source": [
    "df2 = pd.DataFrame({'SunGrow': [42.2, 43.6, 41.1, 41.5, 43.9, 40.4, 41.3, 43.6, 42.9, 42.3],\n",
    "                   'Control': [39.5, 38.2, 39.6, 40.1, 38.9, 39.1, 38, 33.8, 39.8, 36.7]})\n",
    "df2"
   ]
  },
  {
   "cell_type": "code",
   "execution_count": 14,
   "id": "61fbc753",
   "metadata": {},
   "outputs": [
    {
     "name": "stdout",
     "output_type": "stream",
     "text": [
      "Sungrow Mean: 42.28 \n",
      "Sungrow Variance: 1.4440000000000008 \n",
      "Control Mean: 38.370000000000005 \n",
      "Control Variance: 3.6090000000000018\n"
     ]
    }
   ],
   "source": [
    "sungrow_mean = df2['SunGrow'].mean()\n",
    "sungrow_var = df2['SunGrow'].var()\n",
    "control_mean = df2['Control'].mean()\n",
    "control_var = df2['Control'].var()\n",
    "print(\"Sungrow Mean:\", sungrow_mean,\n",
    "     \"\\nSungrow Variance:\", sungrow_var,\n",
    "     \"\\nControl Mean:\", control_mean,\n",
    "     \"\\nControl Variance:\", control_var)"
   ]
  },
  {
   "cell_type": "code",
   "execution_count": 15,
   "id": "f0ae9207",
   "metadata": {},
   "outputs": [
    {
     "name": "stdout",
     "output_type": "stream",
     "text": [
      "2.4993074792243766\n"
     ]
    }
   ],
   "source": [
    "print(control_var/sungrow_var)"
   ]
  },
  {
   "cell_type": "code",
   "execution_count": 18,
   "id": "a6c30380",
   "metadata": {},
   "outputs": [
    {
     "data": {
      "text/plain": [
       "Ttest_indResult(statistic=5.500499230711438, pvalue=2.902733933491102e-05)"
      ]
     },
     "execution_count": 18,
     "metadata": {},
     "output_type": "execute_result"
    }
   ],
   "source": [
    "sungrow = df2['SunGrow']\n",
    "control = df2['Control']\n",
    "ttest_ind(sungrow, control, equal_var=False, alternative = 'greater')"
   ]
  },
  {
   "cell_type": "code",
   "execution_count": 17,
   "id": "00d909d4",
   "metadata": {},
   "outputs": [
    {
     "data": {
      "text/plain": [
       "(2.663853677046811, 5.156146322953182)"
      ]
     },
     "execution_count": 17,
     "metadata": {},
     "output_type": "execute_result"
    }
   ],
   "source": [
    "t.interval(confidence=0.90, df=15, loc=sungrow_mean-control_mean, scale=sqrt((sungrow_var/sungrow.count()+control_var/control.count())))"
   ]
  },
  {
   "cell_type": "code",
   "execution_count": 20,
   "id": "236ae187",
   "metadata": {},
   "outputs": [
    {
     "data": {
      "text/plain": [
       "0.02191933531948549"
      ]
     },
     "execution_count": 20,
     "metadata": {},
     "output_type": "execute_result"
    }
   ],
   "source": [
    "t.sf(abs(2.35), df=63)*2"
   ]
  },
  {
   "cell_type": "code",
   "execution_count": 21,
   "id": "e10bb8c3",
   "metadata": {},
   "outputs": [
    {
     "data": {
      "text/plain": [
       "(0.16610980371219997, 2.0338901962877958)"
      ]
     },
     "execution_count": 21,
     "metadata": {},
     "output_type": "execute_result"
    }
   ],
   "source": [
    "t.interval(confidence=0.95, df=63, loc=18.9-17.8, scale=sqrt(2.52*(1/50 + 1/15)))"
   ]
  },
  {
   "cell_type": "code",
   "execution_count": null,
   "id": "26b84a6d",
   "metadata": {},
   "outputs": [],
   "source": []
  }
 ],
 "metadata": {
  "kernelspec": {
   "display_name": "Python 3 (ipykernel)",
   "language": "python",
   "name": "python3"
  },
  "language_info": {
   "codemirror_mode": {
    "name": "ipython",
    "version": 3
   },
   "file_extension": ".py",
   "mimetype": "text/x-python",
   "name": "python",
   "nbconvert_exporter": "python",
   "pygments_lexer": "ipython3",
   "version": "3.10.9"
  }
 },
 "nbformat": 4,
 "nbformat_minor": 5
}
